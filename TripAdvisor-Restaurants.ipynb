{
 "cells": [
  {
   "cell_type": "code",
   "execution_count": 217,
   "metadata": {},
   "outputs": [],
   "source": [
    "from selenium import webdriver\n",
    "from bs4 import BeautifulSoup as bs\n",
    "from time import sleep\n",
    "import sqlite3 as lite\n",
    "import pandas as pd"
   ]
  },
  {
   "cell_type": "markdown",
   "metadata": {},
   "source": [
    "# Web Scraping with Selenium, BeautifulSoup"
   ]
  },
  {
   "cell_type": "code",
   "execution_count": 243,
   "metadata": {},
   "outputs": [],
   "source": [
    "def scraper(city_input):\n",
    "    city = city_input[:-12]\n",
    "    result_list = []\n",
    "    for i in range(1, 30+1):\n",
    "        soup = bs(ch_driver.page_source, \"html.parser\")\n",
    "        results = soup.find('div', attrs={'id':'EATERY_SEARCH_RESULTS'}) \n",
    "        rank = str(i)\n",
    "        restaurant = results.find('div', attrs={'data-index': '{rank}'.format(rank = rank)})\n",
    "\n",
    "        title_div = restaurant.find('div', attrs={'class' : 'title'})\n",
    "        title = title_div.find('a').text.strip('\\n')\n",
    "\n",
    "        rating_div = restaurant.find('div', attrs={'class' : 'rating rebrand'})\n",
    "        rating = rating_div.find('span').attrs['alt']\n",
    "\n",
    "        count = restaurant.find('span', attrs={'class' : 'reviewCount'}).find('a').text.strip('\\n')\n",
    "\n",
    "        try:\n",
    "            price = restaurant.find('span', attrs={'class' : 'item price'}).text\n",
    "            cuisine_div = restaurant.find('div', attrs={'class' : 'cuisines'}).find_all('a')\n",
    "            cuisine_list = []\n",
    "            for div in cuisine_div:\n",
    "                cuisine_list.append(div.text)\n",
    "            cuisine = \", \".join(cuisine_list)\n",
    "        except:\n",
    "            price = \"N/A\"\n",
    "            cuisine = \"N/A\"\n",
    "\n",
    "        review_ul = restaurant.find('ul', attrs={'class' : 'review_stubs review_snippets rebrand'})\n",
    "        review_a = review_ul.find_all('a')\n",
    "        review_list = []\n",
    "        for tag in review_a:\n",
    "            review_list.append(tag.text)\n",
    "        review = \", \".join(review_list)\n",
    "\n",
    "        result_list.append((city, rank, title, rating, count, price, cuisine, review))\n",
    "        \n",
    "    return result_list"
   ]
  },
  {
   "cell_type": "code",
   "execution_count": 244,
   "metadata": {},
   "outputs": [
    {
     "name": "stderr",
     "output_type": "stream",
     "text": [
      "c:\\python37\\lib\\site-packages\\ipykernel_launcher.py:4: DeprecationWarning: use options instead of chrome_options\n",
      "  after removing the cwd from sys.path.\n"
     ]
    }
   ],
   "source": [
    "options = webdriver.ChromeOptions()\n",
    "options.add_argument('headless')\n",
    "\n",
    "ch_driver = webdriver.Chrome('chromedriver_path', chrome_options=options)\n",
    "\n",
    "url = 'https://www.tripadvisor.com/Restaurants-g191-United_States.html'\n",
    "ch_driver.get(url)\n",
    "ch_driver.implicitly_wait(3)\n",
    "\n",
    "#ch_driver.find_element_by_class_name('continue').click()\n",
    "#sleep(3)\n",
    "\n",
    "cities_div = ch_driver.find_elements_by_class_name('geo_name')\n",
    "city_len = len(cities_div)\n",
    "\n",
    "all_result_list = []\n",
    "\n",
    "for j in range(city_len):\n",
    "    cities_div = ch_driver.find_elements_by_class_name('geo_name')\n",
    "\n",
    "    city_button = cities_div[j].find_element_by_tag_name('a')\n",
    "    city_name = city_button.text\n",
    "\n",
    "    city_button.click()\n",
    "    sleep(3)\n",
    "    \n",
    "    result = scraper(city_name)\n",
    "    #print(result)\n",
    "    all_result_list.extend(result)\n",
    "    sleep(3)\n",
    "    \n",
    "    ch_driver.back()\n",
    "    sleep(3)\n",
    "\n",
    "ch_driver.quit()"
   ]
  },
  {
   "cell_type": "code",
   "execution_count": 247,
   "metadata": {},
   "outputs": [
    {
     "data": {
      "text/plain": [
       "600"
      ]
     },
     "execution_count": 247,
     "metadata": {},
     "output_type": "execute_result"
    }
   ],
   "source": [
    "len(all_result_list)"
   ]
  },
  {
   "cell_type": "code",
   "execution_count": 248,
   "metadata": {},
   "outputs": [
    {
     "data": {
      "text/plain": [
       "('Portland',\n",
       " '21',\n",
       " 'Lechon',\n",
       " '4.5 of 5 bubbles',\n",
       " '208 reviews ',\n",
       " '$$ - $$$',\n",
       " 'Latin, Argentinean, South American, Vegetarian Friendly, Vegan Options, Gluten Free Options',\n",
       " 'A must in portland, A different spin on Argenitean food')"
      ]
     },
     "execution_count": 248,
     "metadata": {},
     "output_type": "execute_result"
    }
   ],
   "source": [
    "# for check\n",
    "all_result_list[350]"
   ]
  },
  {
   "cell_type": "markdown",
   "metadata": {},
   "source": [
    "# Creating a DB with SQLite"
   ]
  },
  {
   "cell_type": "markdown",
   "metadata": {},
   "source": [
    "`.open restaurants.db`"
   ]
  },
  {
   "cell_type": "code",
   "execution_count": 249,
   "metadata": {},
   "outputs": [],
   "source": [
    "db = lite.connect('./restaurants.db')"
   ]
  },
  {
   "cell_type": "code",
   "execution_count": 250,
   "metadata": {},
   "outputs": [],
   "source": [
    "pd.options.display.max_colwidth = 300"
   ]
  },
  {
   "cell_type": "code",
   "execution_count": 253,
   "metadata": {},
   "outputs": [],
   "source": [
    "query_create_table = \"\"\"\n",
    "CREATE TABLE IF NOT EXISTS\n",
    "TripAdvisor\n",
    "(\"City\" TEXT,\n",
    "\"Rank\" TEXT,\n",
    "\"Restaurant Name\" TEXT,\n",
    "\"Rating\" TEXT,\n",
    "\"Review Count\" TEXT,\n",
    "\"Price\" TEXT,\n",
    "\"Cuisine\" TEXT,\n",
    "\"Review\" TEXT);\n",
    "\"\"\"\n",
    "\n",
    "query_insert_data = \"\"\"\n",
    "INSERT INTO TripAdvisor VALUES(?, ?, ?, ?, ?, ?, ?, ?);\n",
    "\"\"\"\n",
    "\n",
    "with db:\n",
    "    cur = db.cursor()\n",
    "    cur.execute(query_create_table)\n",
    "    for row in all_result_list:\n",
    "        cur.execute(query_insert_data, row)"
   ]
  },
  {
   "cell_type": "code",
   "execution_count": 256,
   "metadata": {},
   "outputs": [
    {
     "data": {
      "text/html": [
       "<div>\n",
       "<style scoped>\n",
       "    .dataframe tbody tr th:only-of-type {\n",
       "        vertical-align: middle;\n",
       "    }\n",
       "\n",
       "    .dataframe tbody tr th {\n",
       "        vertical-align: top;\n",
       "    }\n",
       "\n",
       "    .dataframe thead th {\n",
       "        text-align: right;\n",
       "    }\n",
       "</style>\n",
       "<table border=\"1\" class=\"dataframe\">\n",
       "  <thead>\n",
       "    <tr style=\"text-align: right;\">\n",
       "      <th></th>\n",
       "      <th>City</th>\n",
       "      <th>Rank</th>\n",
       "      <th>Restaurant Name</th>\n",
       "      <th>Rating</th>\n",
       "      <th>Review Count</th>\n",
       "      <th>Price</th>\n",
       "      <th>Cuisine</th>\n",
       "      <th>Review</th>\n",
       "    </tr>\n",
       "  </thead>\n",
       "  <tbody>\n",
       "    <tr>\n",
       "      <th>0</th>\n",
       "      <td>New York City</td>\n",
       "      <td>1</td>\n",
       "      <td>Piccola Cucina Osteria</td>\n",
       "      <td>4.5 of 5 bubbles</td>\n",
       "      <td>1,859 reviews</td>\n",
       "      <td>$$ - $$$</td>\n",
       "      <td>Italian, Mediterranean, Vegetarian Friendly, Vegan Options, Gluten Free Options</td>\n",
       "      <td>Amazing dinner, Amazing night</td>\n",
       "    </tr>\n",
       "    <tr>\n",
       "      <th>1</th>\n",
       "      <td>New York City</td>\n",
       "      <td>2</td>\n",
       "      <td>Levain Bakery</td>\n",
       "      <td>4.5 of 5 bubbles</td>\n",
       "      <td>4,419 reviews</td>\n",
       "      <td>N/A</td>\n",
       "      <td>N/A</td>\n",
       "      <td>If you like cookies don’t miss this locati..., Warm and Delicious - Gooey Cookie!</td>\n",
       "    </tr>\n",
       "    <tr>\n",
       "      <th>2</th>\n",
       "      <td>New York City</td>\n",
       "      <td>3</td>\n",
       "      <td>Levain Bakery</td>\n",
       "      <td>5 of 5 bubbles</td>\n",
       "      <td>1,562 reviews</td>\n",
       "      <td>$$ - $$$</td>\n",
       "      <td>American, Vegetarian Friendly</td>\n",
       "      <td>Heaven!, Delicious</td>\n",
       "    </tr>\n",
       "    <tr>\n",
       "      <th>3</th>\n",
       "      <td>New York City</td>\n",
       "      <td>4</td>\n",
       "      <td>Piccola Cucina</td>\n",
       "      <td>4.5 of 5 bubbles</td>\n",
       "      <td>663 reviews</td>\n",
       "      <td>$$ - $$$</td>\n",
       "      <td>Italian, Vegetarian Friendly, Vegan Options, Gluten Free Options</td>\n",
       "      <td>Best lazagna!!!, Wonderful birthday dinnner</td>\n",
       "    </tr>\n",
       "    <tr>\n",
       "      <th>4</th>\n",
       "      <td>New York City</td>\n",
       "      <td>5</td>\n",
       "      <td>SottoCasa Pizzeria</td>\n",
       "      <td>5 of 5 bubbles</td>\n",
       "      <td>303 reviews</td>\n",
       "      <td>$$ - $$$</td>\n",
       "      <td>Pizza, Vegetarian Friendly, Vegan Options, Gluten Free Options</td>\n",
       "      <td>Pizza, Absolutely the best pizza in New York</td>\n",
       "    </tr>\n",
       "  </tbody>\n",
       "</table>\n",
       "</div>"
      ],
      "text/plain": [
       "            City Rank         Restaurant Name            Rating  \\\n",
       "0  New York City    1  Piccola Cucina Osteria  4.5 of 5 bubbles   \n",
       "1  New York City    2           Levain Bakery  4.5 of 5 bubbles   \n",
       "2  New York City    3           Levain Bakery    5 of 5 bubbles   \n",
       "3  New York City    4          Piccola Cucina  4.5 of 5 bubbles   \n",
       "4  New York City    5      SottoCasa Pizzeria    5 of 5 bubbles   \n",
       "\n",
       "     Review Count     Price  \\\n",
       "0  1,859 reviews   $$ - $$$   \n",
       "1  4,419 reviews        N/A   \n",
       "2  1,562 reviews   $$ - $$$   \n",
       "3    663 reviews   $$ - $$$   \n",
       "4    303 reviews   $$ - $$$   \n",
       "\n",
       "                                                                           Cuisine  \\\n",
       "0  Italian, Mediterranean, Vegetarian Friendly, Vegan Options, Gluten Free Options   \n",
       "1                                                                              N/A   \n",
       "2                                                    American, Vegetarian Friendly   \n",
       "3                 Italian, Vegetarian Friendly, Vegan Options, Gluten Free Options   \n",
       "4                   Pizza, Vegetarian Friendly, Vegan Options, Gluten Free Options   \n",
       "\n",
       "                                                                              Review  \n",
       "0                                                      Amazing dinner, Amazing night  \n",
       "1  If you like cookies don’t miss this locati..., Warm and Delicious - Gooey Cookie!  \n",
       "2                                                                 Heaven!, Delicious  \n",
       "3                                        Best lazagna!!!, Wonderful birthday dinnner  \n",
       "4                                       Pizza, Absolutely the best pizza in New York  "
      ]
     },
     "execution_count": 256,
     "metadata": {},
     "output_type": "execute_result"
    }
   ],
   "source": [
    "query = \"\"\"\n",
    "SELECT * FROM TripAdvisor;\n",
    "\"\"\"\n",
    "\n",
    "pd.read_sql(query, db).head()"
   ]
  },
  {
   "cell_type": "code",
   "execution_count": null,
   "metadata": {},
   "outputs": [],
   "source": []
  }
 ],
 "metadata": {
  "kernelspec": {
   "display_name": "Python 3",
   "language": "python",
   "name": "python3"
  },
  "language_info": {
   "codemirror_mode": {
    "name": "ipython",
    "version": 3
   },
   "file_extension": ".py",
   "mimetype": "text/x-python",
   "name": "python",
   "nbconvert_exporter": "python",
   "pygments_lexer": "ipython3",
   "version": "3.7.1"
  }
 },
 "nbformat": 4,
 "nbformat_minor": 2
}
