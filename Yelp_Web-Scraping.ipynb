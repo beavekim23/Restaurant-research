{
 "cells": [
  {
   "cell_type": "code",
   "execution_count": 1,
   "metadata": {},
   "outputs": [],
   "source": [
    "from selenium import webdriver\n",
    "from time import sleep\n",
    "import requests"
   ]
  },
  {
   "cell_type": "code",
   "execution_count": 4,
   "metadata": {},
   "outputs": [],
   "source": [
    "ch_driver = webdriver.Chrome('C:/Users/beave/AppData/Roaming/Microsoft/Windows/Start Menu/Programs/Python 3.7/chromedriver.exe')\n",
    "\n",
    "ch_driver.implicitly_wait(5)\n",
    "\n",
    "yelp_url = 'https://www.yelp.com/'\n",
    "ch_driver.get(yelp_url)\n",
    "\n",
    "search_input = ch_driver.find_element_by_id('find_desc')\n",
    "search_input.send_keys('restaurants')\n",
    "city_input = ch_driver.find_element_by_id('dropperText_Mast')\n",
    "city_input.click()\n",
    "city_input.send_keys('los angeles')\n",
    "\n",
    "search_button = ch_driver.find_element_by_id('header-search-submit')\n",
    "search_button.click()"
   ]
  },
  {
   "cell_type": "code",
   "execution_count": 5,
   "metadata": {},
   "outputs": [],
   "source": [
    "city = 'Los Angeles'\n",
    "city_list = ['Los Angeles', 'San Francisco', 'New York']\n",
    "\n",
    "all_restaurant_dict = {}\n",
    "\n",
    "for city in city_list:\n",
    "    another_city = ch_driver.find_element_by_id('search_location')\n",
    "    another_city.click()\n",
    "    another_city.send_keys(city)\n",
    "    another_button = ch_driver.find_element_by_xpath('//*[@id=\"header_find_form\"]/div/div[2]/div/div[2]/button')\n",
    "    another_button.click()\n",
    "    sleep(3)\n",
    "    \n",
    "    restaurant_list = []\n",
    "    restaurant_dict = {}\n",
    "    \n",
    "    r_path = '//*[@id=\"wrap\"]/div[3]/div[2]/div[2]/div/div[1]/div[1]/div/ul/li/div/div/div/div/div[2]/div[1]/div[1]/div[1]'\n",
    "    restaurants = ch_driver.find_elements_by_xpath(r_path)\n",
    "\n",
    "    for item in restaurants:\n",
    "        title = item.find_element_by_tag_name('h3').text\n",
    "        if title[0].isdigit() == False:\n",
    "            pass\n",
    "        else:\n",
    "            restaurant_list.append(item)\n",
    "    \n",
    "    for i, restaurant in enumerate(restaurant_list):\n",
    "        restaurant_name = item.find_element_by_tag_name('a').text\n",
    "        link = item.find_element_by_tag_name('a').get_attribute('href')\n",
    "\n",
    "        divs = item.find_elements_by_tag_name('div')\n",
    "\n",
    "        #get rating\n",
    "        rating_span = divs[1].find_element_by_tag_name('span')\n",
    "        rating_div = rating_span.find_element_by_tag_name('div')\n",
    "        rating = rating_div.get_attribute('aria-label')\n",
    "\n",
    "        #get the number of reivews\n",
    "        review_span = divs[3].find_element_by_tag_name('span')\n",
    "        review_count = review_span.text\n",
    "\n",
    "        #get price index and keywords\n",
    "        pk_span = divs[4].find_elements_by_tag_name('span')\n",
    "        if pk_span[0].text[0] == '$':\n",
    "            price = pk_span[0].text\n",
    "            keyword = pk_span[1].text\n",
    "        else:\n",
    "            price = 'N/A'\n",
    "            keyword = pk_span[0].text\n",
    "            \n",
    "        restaurant_dict[str(i+1)] = dict([(name, eval(name)) for name in \n",
    "                                          ['restaurant_name', 'link', 'rating', 'review_count', 'price', 'keyword']])\n",
    "        \n",
    "    all_restaurant_dict[city] = restaurant_dict\n",
    "    sleep(3)"
   ]
  },
  {
   "cell_type": "code",
   "execution_count": 7,
   "metadata": {},
   "outputs": [
    {
     "data": {
      "text/plain": [
       "{'restaurant_name': 'Helmand Palace',\n",
       " 'link': 'https://www.yelp.com/adredir?ad_business_id=ODed3UyqDFIFs3gDcXhm7A&campaign_id=8BxRPGsdOE5diGChOnBbiw&click_origin=search_results&placement=below_search&redirect_url=https%3A%2F%2Fwww.yelp.com%2Fbiz%2Fhelmand-palace-san-francisco&request_id=a5b016059a62ad5c&signature=88c55715005e2adb5af88a8469a5247d0cd0ddabb00fc17227b4b378fe1bbaad&slot=0',\n",
       " 'rating': '4.5 star rating',\n",
       " 'review_count': '789 reviews',\n",
       " 'price': '$$',\n",
       " 'keyword': 'Mediterranean, Halal, Afghan'}"
      ]
     },
     "execution_count": 7,
     "metadata": {},
     "output_type": "execute_result"
    }
   ],
   "source": [
    "all_restaurant_dict['San Francisco']['3']"
   ]
  }
 ],
 "metadata": {
  "kernelspec": {
   "display_name": "Python 3",
   "language": "python",
   "name": "python3"
  },
  "language_info": {
   "codemirror_mode": {
    "name": "ipython",
    "version": 3
   },
   "file_extension": ".py",
   "mimetype": "text/x-python",
   "name": "python",
   "nbconvert_exporter": "python",
   "pygments_lexer": "ipython3",
   "version": "3.7.1"
  }
 },
 "nbformat": 4,
 "nbformat_minor": 2
}
