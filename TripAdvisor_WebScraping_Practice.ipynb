{
 "cells": [
  {
   "cell_type": "code",
   "execution_count": 1,
   "metadata": {},
   "outputs": [],
   "source": [
    "from selenium import webdriver\n",
    "from bs4 import BeautifulSoup as bs\n",
    "from time import sleep"
   ]
  },
  {
   "cell_type": "markdown",
   "metadata": {},
   "source": [
    "## practice 1"
   ]
  },
  {
   "cell_type": "code",
   "execution_count": 6,
   "metadata": {},
   "outputs": [
    {
     "data": {
      "text/plain": [
       "20"
      ]
     },
     "execution_count": 6,
     "metadata": {},
     "output_type": "execute_result"
    }
   ],
   "source": [
    "ch_driver = webdriver.Chrome('chromedriver_path')\n",
    "\n",
    "url = 'https://www.tripadvisor.com/Restaurants-g191-United_States.html'\n",
    "ch_driver.get(url)\n",
    "\n",
    "ch_driver.find_element_by_class_name('continue').click()\n",
    "\n",
    "cities = ch_driver.find_elements_by_class_name('geo_name')\n",
    "\n",
    "# for check\n",
    "len(cities)"
   ]
  },
  {
   "cell_type": "code",
   "execution_count": 7,
   "metadata": {},
   "outputs": [],
   "source": [
    "cities[0].find_element_by_tag_name('a').click()\n",
    "sleep(3)\n",
    "soup = bs(ch_driver.page_source, \"html.parser\")\n",
    "results = soup.find('div', attrs={'id':'EATERY_SEARCH_RESULTS'}) \n",
    "restaurant = results.find('div', attrs={'data-index': '1'})"
   ]
  },
  {
   "cell_type": "code",
   "execution_count": 8,
   "metadata": {},
   "outputs": [
    {
     "data": {
      "text/plain": [
       "'Piccola Cucina Osteria'"
      ]
     },
     "execution_count": 8,
     "metadata": {},
     "output_type": "execute_result"
    }
   ],
   "source": [
    "# get restaurant name\n",
    "title_div = restaurant.find('div', attrs={'class': 'title'})\n",
    "title = title_div.find('a').text.strip('\\n')\n",
    "title"
   ]
  },
  {
   "cell_type": "code",
   "execution_count": 9,
   "metadata": {},
   "outputs": [
    {
     "data": {
      "text/plain": [
       "'4.5 of 5 bubbles'"
      ]
     },
     "execution_count": 9,
     "metadata": {},
     "output_type": "execute_result"
    }
   ],
   "source": [
    "# get rating\n",
    "rating = restaurant.find('span', attrs={'class' : 'ui_bubble_rating bubble_45'}).attrs['alt']\n",
    "rating"
   ]
  },
  {
   "cell_type": "code",
   "execution_count": 10,
   "metadata": {},
   "outputs": [
    {
     "data": {
      "text/plain": [
       "'1,859 reviews '"
      ]
     },
     "execution_count": 10,
     "metadata": {},
     "output_type": "execute_result"
    }
   ],
   "source": [
    "# get review count\n",
    "count = restaurant.find('span', attrs={'class' : 'reviewCount'}).find('a').text.strip('\\n')\n",
    "count"
   ]
  },
  {
   "cell_type": "code",
   "execution_count": 11,
   "metadata": {},
   "outputs": [
    {
     "data": {
      "text/plain": [
       "'$$ - $$$'"
      ]
     },
     "execution_count": 11,
     "metadata": {},
     "output_type": "execute_result"
    }
   ],
   "source": [
    "# get price\n",
    "try:\n",
    "    price = restaurant.find('span', attrs={'class' : 'item price'}).text\n",
    "except:\n",
    "    price = \"N/A\"\n",
    "price"
   ]
  },
  {
   "cell_type": "code",
   "execution_count": 12,
   "metadata": {},
   "outputs": [
    {
     "data": {
      "text/plain": [
       "['Italian',\n",
       " 'Mediterranean',\n",
       " 'Vegetarian Friendly',\n",
       " 'Vegan Options',\n",
       " 'Gluten Free Options']"
      ]
     },
     "execution_count": 12,
     "metadata": {},
     "output_type": "execute_result"
    }
   ],
   "source": [
    "# get cuisine\n",
    "try:\n",
    "    cuisine_div = restaurant.find('div', attrs={'class' : 'cuisines'}).find_all('a')\n",
    "    cuisine = []\n",
    "    for div in cuisine_div:\n",
    "        cuisine.append(div.text)\n",
    "except:\n",
    "    cuisine = []\n",
    "cuisine"
   ]
  },
  {
   "cell_type": "code",
   "execution_count": 13,
   "metadata": {},
   "outputs": [
    {
     "data": {
      "text/plain": [
       "['Amazing dinner', 'Amazing night']"
      ]
     },
     "execution_count": 13,
     "metadata": {},
     "output_type": "execute_result"
    }
   ],
   "source": [
    "review_ul = restaurant.find('ul', attrs={'class' : 'review_stubs review_snippets rebrand'})\n",
    "review_a = review_ul.find_all('a')\n",
    "review = []\n",
    "for tag in review_a:\n",
    "    review.append(tag.text)\n",
    "    \n",
    "review"
   ]
  },
  {
   "cell_type": "markdown",
   "metadata": {},
   "source": [
    "## practice 2"
   ]
  },
  {
   "cell_type": "code",
   "execution_count": 14,
   "metadata": {},
   "outputs": [],
   "source": [
    "ch_driver.back()"
   ]
  },
  {
   "cell_type": "code",
   "execution_count": 15,
   "metadata": {},
   "outputs": [],
   "source": [
    "cities_div = ch_driver.find_elements_by_class_name('geo_name')\n",
    "city_list = []\n",
    "for item in cities_div:\n",
    "    name = item.find_element_by_tag_name('a').text\n",
    "    city_list.append(name)"
   ]
  },
  {
   "cell_type": "code",
   "execution_count": 16,
   "metadata": {},
   "outputs": [
    {
     "data": {
      "text/plain": [
       "['New York City Restaurants',\n",
       " 'Los Angeles Restaurants',\n",
       " 'Chicago Restaurants',\n",
       " 'Houston Restaurants',\n",
       " 'Brooklyn Restaurants',\n",
       " 'San Francisco Restaurants',\n",
       " 'Las Vegas Restaurants',\n",
       " 'San Diego Restaurants',\n",
       " 'San Antonio Restaurants',\n",
       " 'Philadelphia Restaurants',\n",
       " 'Miami Restaurants',\n",
       " 'Portland Restaurants',\n",
       " 'Seattle Restaurants',\n",
       " 'Atlanta Restaurants',\n",
       " 'Orlando Restaurants',\n",
       " 'Austin Restaurants',\n",
       " 'Dallas Restaurants',\n",
       " 'Oahu Restaurants',\n",
       " 'Washington DC Restaurants',\n",
       " 'Boston Restaurants']"
      ]
     },
     "execution_count": 16,
     "metadata": {},
     "output_type": "execute_result"
    }
   ],
   "source": [
    "city_list"
   ]
  },
  {
   "cell_type": "code",
   "execution_count": 17,
   "metadata": {},
   "outputs": [
    {
     "name": "stdout",
     "output_type": "stream",
     "text": [
      "New York City\n",
      "Los Angeles\n",
      "Chicago\n",
      "Houston\n",
      "Brooklyn\n",
      "San Francisco\n",
      "Las Vegas\n",
      "San Diego\n",
      "San Antonio\n",
      "Philadelphia\n",
      "Miami\n",
      "Portland\n",
      "Seattle\n",
      "Atlanta\n",
      "Orlando\n",
      "Austin\n",
      "Dallas\n",
      "Oahu\n",
      "Washington DC\n",
      "Boston\n"
     ]
    }
   ],
   "source": [
    "#city name slicing\n",
    "for city in city_list:\n",
    "    print(city[:-12])"
   ]
  },
  {
   "cell_type": "code",
   "execution_count": 18,
   "metadata": {},
   "outputs": [],
   "source": [
    "cities_div[0].find_element_by_tag_name('a').click()"
   ]
  },
  {
   "cell_type": "code",
   "execution_count": 19,
   "metadata": {},
   "outputs": [],
   "source": [
    "soup = bs(ch_driver.page_source, \"html.parser\")\n",
    "results = soup.find('div', attrs={'id':'EATERY_SEARCH_RESULTS'}) \n",
    "rank = 1\n",
    "restaurant = results.find('div', attrs={'data-index': '{rank}'.format(rank = rank)})"
   ]
  },
  {
   "cell_type": "code",
   "execution_count": 20,
   "metadata": {},
   "outputs": [
    {
     "data": {
      "text/plain": [
       "'Italian, Mediterranean, Vegetarian Friendly, Vegan Options, Gluten Free Options'"
      ]
     },
     "execution_count": 20,
     "metadata": {},
     "output_type": "execute_result"
    }
   ],
   "source": [
    "cuisine_div = restaurant.find('div', attrs={'class' : 'cuisines'}).find_all('a')\n",
    "cuisine_list = []\n",
    "for div in cuisine_div:\n",
    "    cuisine_list.append(div.text)\n",
    "cuisine = \", \".join(cuisine_list)\n",
    "\n",
    "cuisine"
   ]
  },
  {
   "cell_type": "code",
   "execution_count": 21,
   "metadata": {},
   "outputs": [
    {
     "data": {
      "text/plain": [
       "'Amazing dinner, Amazing night'"
      ]
     },
     "execution_count": 21,
     "metadata": {},
     "output_type": "execute_result"
    }
   ],
   "source": [
    "review_ul = restaurant.find('ul', attrs={'class' : 'review_stubs review_snippets rebrand'})\n",
    "review_a = review_ul.find_all('a')\n",
    "review_list = []\n",
    "for tag in review_a:\n",
    "    review_list.append(tag.text)\n",
    "review = \", \".join(review_list)\n",
    "\n",
    "review"
   ]
  },
  {
   "cell_type": "code",
   "execution_count": 22,
   "metadata": {},
   "outputs": [],
   "source": [
    "def scraper():\n",
    "    result_list = []\n",
    "    for i in range(1, 30+1):\n",
    "        soup = bs(ch_driver.page_source, \"html.parser\")\n",
    "        results = soup.find('div', attrs={'id':'EATERY_SEARCH_RESULTS'}) \n",
    "        rank = str(i)\n",
    "        restaurant = results.find('div', attrs={'data-index': '{rank}'.format(rank = rank)})\n",
    "\n",
    "        title_div = restaurant.find('div', attrs={'class' : 'title'})\n",
    "        title = title_div.find('a').text.strip('\\n')\n",
    "\n",
    "        rating_div = restaurant.find('div', attrs={'class' : 'rating rebrand'})\n",
    "        rating = rating_div.find('span').attrs['alt']\n",
    "\n",
    "        count = restaurant.find('span', attrs={'class' : 'reviewCount'}).find('a').text.strip('\\n')\n",
    "\n",
    "        try:\n",
    "            price = restaurant.find('span', attrs={'class' : 'item price'}).text\n",
    "            cuisine_div = restaurant.find('div', attrs={'class' : 'cuisines'}).find_all('a')\n",
    "            cuisine_list = []\n",
    "            for div in cuisine_div:\n",
    "                cuisine_list.append(div.text)\n",
    "            cuisine = \", \".join(cuisine_list)\n",
    "        except:\n",
    "            price = \"N/A\"\n",
    "            cuisine = \"N/A\"\n",
    "\n",
    "        review_ul = restaurant.find('ul', attrs={'class' : 'review_stubs review_snippets rebrand'})\n",
    "        review_a = review_ul.find_all('a')\n",
    "        review_list = []\n",
    "        for tag in review_a:\n",
    "            review_list.append(tag.text)\n",
    "        review = \", \".join(review_list)\n",
    "\n",
    "        result_list.append((title, rating, count, price, cuisine, review))\n",
    "        \n",
    "    return result_list"
   ]
  },
  {
   "cell_type": "code",
   "execution_count": 23,
   "metadata": {},
   "outputs": [
    {
     "data": {
      "text/plain": [
       "('Piccola Cucina Osteria',\n",
       " '4.5 of 5 bubbles',\n",
       " '1,859 reviews ',\n",
       " '$$ - $$$',\n",
       " 'Italian, Mediterranean, Vegetarian Friendly, Vegan Options, Gluten Free Options',\n",
       " 'Amazing dinner, Amazing night')"
      ]
     },
     "execution_count": 23,
     "metadata": {},
     "output_type": "execute_result"
    }
   ],
   "source": [
    "scraper()[0]"
   ]
  }
 ],
 "metadata": {
  "kernelspec": {
   "display_name": "Python 3",
   "language": "python",
   "name": "python3"
  },
  "language_info": {
   "codemirror_mode": {
    "name": "ipython",
    "version": 3
   },
   "file_extension": ".py",
   "mimetype": "text/x-python",
   "name": "python",
   "nbconvert_exporter": "python",
   "pygments_lexer": "ipython3",
   "version": "3.7.1"
  }
 },
 "nbformat": 4,
 "nbformat_minor": 2
}
